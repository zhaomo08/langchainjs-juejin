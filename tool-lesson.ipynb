{
 "cells": [
  {
   "cell_type": "code",
   "execution_count": null,
   "metadata": {},
   "outputs": [],
   "source": [
    "import { load } from \"dotenv\";\n",
    "const env = await load();"
   ]
  },
  {
   "cell_type": "code",
   "execution_count": null,
   "metadata": {},
   "outputs": [],
   "source": [
    "import OpenAI from \"openai\";\n",
    "\n",
    "const openai = new OpenAI({\n",
    "    apiKey: env[\"AZURE_OPENAI_API_KEY\"],\n",
    "    baseURL: `https://${env[\"AZURE_OPENAI_API_INSTANCE_NAME\"]}.openai.azure.com/openai/deployments/${env[\"AZURE_OPENAI_API_DEPLOYMENT_NAME\"]}`,\n",
    "    defaultQuery: { 'api-version':  env[\"AZURE_OPENAI_API_VERSION\"] },\n",
    "    defaultHeaders: { 'api-key': env[\"AZURE_OPENAI_API_KEY\"] },\n",
    "});"
   ]
  },
  {
   "cell_type": "code",
   "execution_count": null,
   "metadata": {},
   "outputs": [],
   "source": [
    "const result = await openai.chat.completions.create({\n",
    "    // model: 'gpt-3.5-turbo',\n",
    "    model: env[\"AZURE_OPENAI_API_DEPLOYMENT_NAME\"],\n",
    "    messages: [{ role: 'user', content: 'Say hello!' }],\n",
    "  });\n",
    "  console.log(result.choices[0]!.message?.content);"
   ]
  },
  {
   "cell_type": "code",
   "execution_count": null,
   "metadata": {},
   "outputs": [],
   "source": [
    "function getCurrentWeather({ location, unit=\"fahrenheit\"}){\n",
    "   const  weather_info = {\n",
    "        \"location\": location,\n",
    "        \"temperature\": \"72\",\n",
    "        \"unit\": unit,\n",
    "        \"forecast\": [\"sunny\", \"windy\"],\n",
    "    }\n",
    "    return JSON.stringify(weather_info);\n",
    "}"
   ]
  },
  {
   "cell_type": "code",
   "execution_count": null,
   "metadata": {},
   "outputs": [],
   "source": [
    "const tools = [\n",
    "    {\n",
    "      type: \"function\",\n",
    "      function: {\n",
    "        name: \"getCurrentWeather\",\n",
    "        description: \"Get the current weather in a given location\",\n",
    "        parameters: {\n",
    "          type: \"object\",\n",
    "          properties: {\n",
    "            location: {\n",
    "              type: \"string\",\n",
    "              description: \"The city and state, e.g. San Francisco, CA\",\n",
    "            },\n",
    "            unit: { \n",
    "              type: \"string\", \n",
    "              enum: [\"celsius\", \"fahrenheit\"],\n",
    "              description: \"The unit of temperature\"\n",
    "            },\n",
    "          },\n",
    "          required: [\"location\", \"unit\"],\n",
    "        },\n",
    "      },\n",
    "    }\n",
    "]"
   ]
  },
  {
   "cell_type": "code",
   "execution_count": null,
   "metadata": {},
   "outputs": [],
   "source": [
    " const messages = [\n",
    "    {\n",
    "        \"role\": \"user\",\n",
    "        // \"content\": \"北京的天气怎么样\"\n",
    "        \"content\": \"What's the weather like in Redmond?\"\n",
    "\n",
    "    }\n",
    "]\n",
    "\n",
    "const result = await openai.chat.completions.create({\n",
    "    // model: 'gpt-3.5-turbo',\n",
    "    model: env[\"AZURE_OPENAI_API_DEPLOYMENT_NAME\"],\n",
    "    messages,\n",
    "    tools\n",
    "  });\n",
    "  console.log(result);"
   ]
  },
  {
   "cell_type": "code",
   "execution_count": null,
   "metadata": {},
   "outputs": [],
   "source": [
    "result.choices[0]"
   ]
  },
  {
   "cell_type": "code",
   "execution_count": null,
   "metadata": {},
   "outputs": [],
   "source": [
    "\n",
    "const messages = [\n",
    "    {\n",
    "        \"role\": \"user\",\n",
    "        \"content\": \"你好\"\n",
    "    }\n",
    "]\n",
    "\n",
    "const result = await openai.chat.completions.create({\n",
    "    // model: 'gpt-3.5-turbo',\n",
    "    model: env[\"AZURE_OPENAI_API_DEPLOYMENT_NAME\"],\n",
    "    messages,\n",
    "    tools,\n",
    "    tool_choice: {\n",
    "        type: \"function\",\n",
    "        function: {\n",
    "           name: \"getCurrentWeather\"\n",
    "        }\n",
    "    }\n",
    "  });"
   ]
  },
  {
   "cell_type": "code",
   "execution_count": null,
   "metadata": {},
   "outputs": [],
   "source": [
    "\n",
    "const functions = {\n",
    "    \"getCurrentWeather\": getCurrentWeather\n",
    "  }\n",
    "\n",
    "const functionInfo = result.choices[0].message.tool_calls[0].function\n",
    "const functionName = functionInfo.name;\n",
    "const functionParams = functionInfo.arguments\n",
    "\n",
    "const functionResult = functions[functionName](functionParams);\n",
    "\n",
    "console.log(functionResult);"
   ]
  },
  {
   "cell_type": "code",
   "execution_count": null,
   "metadata": {},
   "outputs": [],
   "source": [
    "function getCurrentTime({ format = \"iso\" } = {}) {\n",
    "    let currentTime;\n",
    "    switch (format) {\n",
    "        case \"iso\":\n",
    "            currentTime = new Date().toISOString();\n",
    "            break;\n",
    "        case \"locale\":\n",
    "            currentTime = new Date().toLocaleString();\n",
    "            break;\n",
    "        default:\n",
    "            currentTime = new Date().toString();\n",
    "            break;\n",
    "    }\n",
    "    return currentTime;\n",
    "}\n",
    "\n",
    "const tools = [\n",
    "    {\n",
    "        type: \"function\",\n",
    "        function: {\n",
    "            name: \"getCurrentTime\",\n",
    "            description: \"Get the current time in a given format\",\n",
    "            parameters: {\n",
    "                type: \"object\",\n",
    "                properties: {\n",
    "                    format: {\n",
    "                        type: \"string\",\n",
    "                        enum: [\"iso\", \"locale\", \"string\"],\n",
    "                        description: \"The format of the time, e.g. iso, locale, string\",\n",
    "                    },\n",
    "                },\n",
    "                required: [],\n",
    "            },\n",
    "        },\n",
    "    },\n",
    "    {\n",
    "        type: \"function\",\n",
    "        function: {\n",
    "          name: \"getCurrentWeather\",\n",
    "          description: \"Get the current weather in a given location\",\n",
    "          parameters: {\n",
    "            type: \"object\",\n",
    "            properties: {\n",
    "              location: {\n",
    "                type: \"string\",\n",
    "                description: \"The city and state, e.g. San Francisco, CA\",\n",
    "              },\n",
    "              unit: { type: \"string\", enum: [\"celsius\", \"fahrenheit\"] },\n",
    "            },\n",
    "            required: [\"location\", \"unit\"],\n",
    "          },\n",
    "        },\n",
    "      }\n",
    "];"
   ]
  },
  {
   "cell_type": "code",
   "execution_count": null,
   "metadata": {},
   "outputs": [],
   "source": [
    "\n",
    "const messages = [\n",
    "    { role: \"user\", content: \" 上海 新疆 这三个城市的天气如何?\" },\n",
    "]\n",
    "\n",
    "const result = await openai.chat.completions.create({\n",
    "    // model: 'gpt-3.5-turbo',\n",
    "    model: env[\"AZURE_OPENAI_API_DEPLOYMENT_NAME\"],\n",
    "    messages,\n",
    "    tools\n",
    "  });\n"
   ]
  },
  {
   "cell_type": "code",
   "execution_count": null,
   "metadata": {},
   "outputs": [],
   "source": [
    "result.choices[0]"
   ]
  },
  {
   "cell_type": "code",
   "execution_count": null,
   "metadata": {},
   "outputs": [],
   "source": [
    "\n",
    "messages.push(result.choices[0].message)\n",
    "\n",
    "const functions = {\n",
    "    \"getCurrentWeather\": getCurrentWeather\n",
    "  }\n",
    "\n",
    "const cell = result.choices[0].message.tool_calls[0]\n",
    "const functionInfo = cell.function\n",
    "const functionName = functionInfo.name;\n",
    "const functionParams = functionInfo.arguments\n",
    "const functionResult = functions[functionName](functionParams);\n",
    "\n",
    "console.log(messages);\n",
    "messages.push({\n",
    "  tool_call_id: cell.id,\n",
    "  role: \"tool\",\n",
    "  name: functionName,\n",
    "  content: functionResult,\n",
    "}); \n",
    "\n",
    "const response = await openai.chat.completions.create({\n",
    "  // model: 'gpt-3.5-turbo',\n",
    "  model: env[\"AZURE_OPENAI_API_DEPLOYMENT_NAME\"],\n",
    "  messages,\n",
    "});\n",
    "console.log(response);"
   ]
  },
  {
   "cell_type": "code",
   "execution_count": null,
   "metadata": {},
   "outputs": [],
   "source": [
    "response.choices[0].message"
   ]
  },
  {
   "cell_type": "code",
   "execution_count": null,
   "metadata": {},
   "outputs": [],
   "source": [
    "messages"
   ]
  }
 ],
 "metadata": {
  "kernelspec": {
   "display_name": "Deno",
   "language": "typescript",
   "name": "deno"
  },
  "language_info": {
   "file_extension": ".ts",
   "mimetype": "text/x.typescript",
   "name": "typescript",
   "nb_converter": "script",
   "pygments_lexer": "typescript",
   "version": "5.3.3"
  }
 },
 "nbformat": 4,
 "nbformat_minor": 2
}
