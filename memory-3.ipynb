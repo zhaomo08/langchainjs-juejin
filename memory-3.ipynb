{
 "cells": [
  {
   "cell_type": "code",
   "execution_count": null,
   "id": "2fbb379b-b1b9-4dae-8b28-21a3ed27f8d0",
   "metadata": {},
   "outputs": [],
   "source": [
    "import { load } from \"dotenv\";\n",
    "const env = await load();\n",
    "\n",
    "const process = {\n",
    "    env\n",
    "}"
   ]
  },
  {
   "cell_type": "code",
   "execution_count": null,
   "id": "a6c0f656-a1f8-4741-aeeb-28566c0b8f8e",
   "metadata": {},
   "outputs": [],
   "source": [
    "import { ChatOpenAI } from \"@langchain/openai\";\n",
    "import { RunnableSequence } from \"@langchain/core/runnables\";\n",
    "import { RunnablePassthrough } from \"@langchain/core/runnables\";\n",
    "import { StringOutputParser } from \"@langchain/core/output_parsers\";\n",
    "import { BufferMemory } from \"langchain/memory\";\n",
    "import { ChatPromptTemplate } from \"@langchain/core/prompts\";"
   ]
  },
  {
   "cell_type": "code",
   "execution_count": null,
   "id": "4f05384f-e7fc-465f-a7aa-4a2779ad424a",
   "metadata": {},
   "outputs": [],
   "source": [
    "const chatModel = new ChatOpenAI({\n",
    "    verbose:true\n",
    "});\n",
    "const memory = new BufferMemory();\n",
    "\n",
    "const TEMPLATE = `\n",
    "你是一个乐于助人的 ai 助手。尽你所能回答所有问题。\n",
    "\n",
    "这是跟人类沟通的聊天历史:\n",
    "{history}\n",
    "\n",
    "据此回答人类的问题:\n",
    "{input}\n",
    "`\n",
    "const prompt = ChatPromptTemplate.fromTemplate(TEMPLATE);"
   ]
  },
  {
   "cell_type": "code",
   "execution_count": null,
   "id": "dd5d7b4c-6691-4e38-9f19-fa7d60616247",
   "metadata": {},
   "outputs": [],
   "source": [
    "let tempInput = \"\"\n",
    "\n",
    "const chain =  RunnableSequence.from([\n",
    "    {\n",
    "        input: new RunnablePassthrough(),\n",
    "        memoryObject: async (input) => {\n",
    "            const history = await memory.loadMemoryVariables({\n",
    "                input\n",
    "            })\n",
    "            tempInput = input\n",
    "            return history\n",
    "        }\n",
    "    },\n",
    "    RunnablePassthrough.assign({\n",
    "        history: (input) => input.memoryObject.history\n",
    "    }),\n",
    "    prompt,\n",
    "    new RunnablePassthrough({\n",
    "        func: (input) => console.log(input)\n",
    "    }),\n",
    "    chatModel,\n",
    "    new StringOutputParser(),\n",
    "    new RunnablePassthrough({\n",
    "        func: async (output) => {\n",
    "            await memory.saveContext({\n",
    "                input: tempInput\n",
    "            }, {\n",
    "                output\n",
    "            })\n",
    "        }\n",
    "    }),\n",
    "]);"
   ]
  },
  {
   "cell_type": "code",
   "execution_count": null,
   "id": "d7a38687-3609-4e07-84e7-8edff1be14f4",
   "metadata": {},
   "outputs": [],
   "source": [
    "await chain.invoke(\"你好, 我叫小明\")"
   ]
  },
  {
   "cell_type": "code",
   "execution_count": null,
   "id": "0e1f9e21-f7a0-4a74-8fa7-2e45ce71a32f",
   "metadata": {},
   "outputs": [],
   "source": [
    "await chain.invoke(\"我叫什么？\")"
   ]
  },
  {
   "cell_type": "markdown",
   "id": "3b0f54de-55a1-4e9b-92e6-605c93b5861e",
   "metadata": {},
   "source": [
    "## 实现自定义的 chat history"
   ]
  },
  {
   "cell_type": "code",
   "execution_count": null,
   "id": "82fb5f88-b880-40cb-8c4a-3ff1eb0a97ed",
   "metadata": {},
   "outputs": [],
   "source": [
    "import { JSONChatHistory } from \"./JSONChatHistory/index.ts\"\n",
    "import { AIMessage, HumanMessage } from \"@langchain/core/messages\";\n",
    "\n",
    "const history = new JSONChatHistory({\n",
    "    dir: \"chat_data\",\n",
    "    sessionId: \"test\"\n",
    "})\n",
    "\n",
    "\n",
    "await history.addMessages([\n",
    "  new HumanMessage(\"Hi, 我叫小明\"),\n",
    "  new AIMessage(\"你好\"),\n",
    "]);\n",
    "\n",
    "const messages = await history.getMessages();\n",
    "console.log(messages)"
   ]
  },
  {
   "cell_type": "code",
   "execution_count": null,
   "id": "b883403c-f99a-4ff4-b7bc-2f64068b0286",
   "metadata": {},
   "outputs": [],
   "source": [
    "import { ChatOpenAI } from \"@langchain/openai\";\n",
    "import { BufferMemory } from \"langchain/memory\";\n",
    "import { ConversationChain } from \"langchain/chains\";\n",
    "\n",
    "\n",
    "const chatModel = new ChatOpenAI();\n",
    "const memory = new BufferMemory({\n",
    "    chatHistory: history\n",
    "});\n",
    "const chain = new ConversationChain({ llm: chatModel, memory: memory });\n",
    "const res1 = await chain.call({ input: \"我叫什么？\" });"
   ]
  },
  {
   "cell_type": "code",
   "execution_count": null,
   "id": "590b0825-2753-4773-a739-ae0a777d7460",
   "metadata": {},
   "outputs": [],
   "source": [
    "res1"
   ]
  },
  {
   "cell_type": "code",
   "execution_count": null,
   "id": "1198a30d-2f2f-4ee2-9569-498071904a9a",
   "metadata": {},
   "outputs": [],
   "source": [
    "const messages = await history.getMessages()"
   ]
  },
  {
   "cell_type": "code",
   "execution_count": null,
   "id": "eb695ac8-a744-4685-914e-aad6bdb87be8",
   "metadata": {},
   "outputs": [],
   "source": [
    "messages"
   ]
  }
 ],
 "metadata": {
  "kernelspec": {
   "display_name": "Deno",
   "language": "typescript",
   "name": "deno"
  },
  "language_info": {
   "file_extension": ".ts",
   "mimetype": "text/x.typescript",
   "name": "typescript",
   "nb_converter": "script",
   "pygments_lexer": "typescript",
   "version": "5.3.3"
  }
 },
 "nbformat": 4,
 "nbformat_minor": 5
}
