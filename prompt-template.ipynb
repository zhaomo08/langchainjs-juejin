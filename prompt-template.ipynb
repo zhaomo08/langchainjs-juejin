{
 "cells": [
  {
   "cell_type": "code",
   "metadata": {
    "ExecuteTime": {
     "end_time": "2024-05-23T17:04:52.771872Z",
     "start_time": "2024-05-23T17:04:52.702196Z"
    }
   },
   "source": [
    "import { PromptTemplate } from \"@langchain/core/prompts\";\n",
    "\n",
    "const greetingPrompt = new PromptTemplate({\n",
    "  inputVariables: [],\n",
    "  template: \"hello world\",\n",
    "});\n",
    "const formattedGreetingPrompt = await greetingPrompt.format();\n",
    "\n",
    "console.log(formattedGreetingPrompt);"
   ],
   "outputs": [
    {
     "name": "stdout",
     "output_type": "stream",
     "text": [
      "hello world\n"
     ]
    }
   ],
   "execution_count": 1
  },
  {
   "cell_type": "code",
   "metadata": {
    "scrolled": true,
    "ExecuteTime": {
     "end_time": "2024-05-23T17:05:05.297893Z",
     "start_time": "2024-05-23T17:05:05.295871Z"
    }
   },
   "source": [
    "const personalizedGreetingPrompt = new PromptTemplate({\n",
    "  inputVariables: [\"name\"],\n",
    "  template: \"hello，{name}  {{test}}\",\n",
    "});\n",
    "const formattedPersonalizedGreeting = await personalizedGreetingPrompt.format({\n",
    "  name: \"Kai\",\n",
    "});\n",
    "\n",
    "console.log(formattedPersonalizedGreeting);"
   ],
   "outputs": [
    {
     "name": "stdout",
     "output_type": "stream",
     "text": [
      "hello，Kai  {test}\n"
     ]
    }
   ],
   "execution_count": 2
  },
  {
   "cell_type": "code",
   "metadata": {
    "ExecuteTime": {
     "end_time": "2024-05-23T17:05:14.743519Z",
     "start_time": "2024-05-23T17:05:14.742510Z"
    }
   },
   "source": [
    "const multiVariableGreetingPrompt = new PromptTemplate({\n",
    "  inputVariables: [\"timeOfDay\", \"name\"],\n",
    "  template: \"good {timeOfDay}, {name}\",\n",
    "});\n",
    "const formattedMultiVariableGreeting = await multiVariableGreetingPrompt.format({\n",
    "  timeOfDay: \"morning\",\n",
    "  name: \"Kai\",\n",
    "});\n",
    "\n",
    "console.log(formattedMultiVariableGreeting);\n",
    "// good morning, Kai\n"
   ],
   "outputs": [
    {
     "name": "stdout",
     "output_type": "stream",
     "text": [
      "good morning, Kai\n"
     ]
    }
   ],
   "execution_count": 3
  },
  {
   "cell_type": "code",
   "metadata": {
    "ExecuteTime": {
     "end_time": "2024-05-23T17:05:18.625824Z",
     "start_time": "2024-05-23T17:05:18.624391Z"
    }
   },
   "source": [
    "const multiVariableGreetingPrompt = new PromptTemplate({\n",
    "  inputVariables: [\"timeOfDay\", \"name\"],\n",
    "  template: \"good {timeOfDay}, {name} {{test}}\",\n",
    "});\n",
    "const formattedMultiVariableGreeting = await multiVariableGreetingPrompt.format({\n",
    "  timeOfDay: \"morning\",\n",
    "  name: \"Kai\",\n",
    "});\n",
    "\n",
    "console.log(formattedMultiVariableGreeting);\n",
    "// good morning, Kai {test}\n"
   ],
   "outputs": [
    {
     "name": "stdout",
     "output_type": "stream",
     "text": [
      "good morning, Kai {test}\n"
     ]
    }
   ],
   "execution_count": 4
  },
  {
   "cell_type": "code",
   "metadata": {
    "ExecuteTime": {
     "end_time": "2024-05-23T17:05:21.115108Z",
     "start_time": "2024-05-23T17:05:21.111723Z"
    }
   },
   "source": [
    "const autoInferTemplate = PromptTemplate.fromTemplate(\"good {timeOfDay}, {name}\");\n",
    "console.log(autoInferTemplate.inputVariables);\n",
    "// ['timeOfDay', 'name']\n",
    "\n",
    "const formattedAutoInferTemplate = await autoInferTemplate.format({\n",
    "  timeOfDay: \"morning\",\n",
    "  name: \"Kai\",\n",
    "});\n",
    "console.log(formattedAutoInferTemplate)\n",
    "// good morning, Kai"
   ],
   "outputs": [
    {
     "name": "stdout",
     "output_type": "stream",
     "text": [
      "[ \"timeOfDay\", \"name\" ]\n",
      "good morning, Kai\n"
     ]
    }
   ],
   "execution_count": 5
  },
  {
   "cell_type": "code",
   "metadata": {
    "ExecuteTime": {
     "end_time": "2024-05-23T17:05:24.563020Z",
     "start_time": "2024-05-23T17:05:24.560833Z"
    }
   },
   "source": [
    "const initialPrompt = new PromptTemplate({\n",
    "  template: \"这是一个{type}，它是{item}。\",\n",
    "  inputVariables: [\"type\", \"item\"],\n",
    "});\n",
    "\n",
    "\n",
    "const partialedPrompt = await initialPrompt.partial({\n",
    "  type: \"工具\",\n",
    "});\n",
    "\n",
    "const formattedPrompt = await partialedPrompt.format({\n",
    "  item: \"锤子\",\n",
    "});\n",
    "\n",
    "console.log(formattedPrompt);\n",
    "// 这是一个工具，它是锤子。\n",
    "\n",
    "const formattedPrompt2 = await partialedPrompt.format({\n",
    "  item: \"改锥\",\n",
    "});\n",
    "\n",
    "console.log(formattedPrompt2)\n",
    "// 这是一个工具，它是改锥。"
   ],
   "outputs": [
    {
     "name": "stdout",
     "output_type": "stream",
     "text": [
      "这是一个工具，它是锤子。\n",
      "这是一个工具，它是改锥。\n"
     ]
    }
   ],
   "execution_count": 6
  },
  {
   "cell_type": "code",
   "metadata": {
    "ExecuteTime": {
     "end_time": "2024-05-23T17:05:28.582460Z",
     "start_time": "2024-05-23T17:05:28.555917Z"
    }
   },
   "source": [
    "const getCurrentDateStr = () => {\n",
    "  return new Date().toLocaleDateString();\n",
    "};\n",
    "\n",
    "const promptWithDate = new PromptTemplate({\n",
    "  template: \"今天是{date}，{activity}。\",\n",
    "  inputVariables: [\"date\", \"activity\"],\n",
    "});\n",
    "\n",
    "const partialedPromptWithDate = await promptWithDate.partial({\n",
    "  date: getCurrentDateStr,\n",
    "});\n",
    "\n",
    "const formattedPromptWithDate = await partialedPromptWithDate.format({\n",
    "  activity: \"我们去爬山\",\n",
    "});\n",
    "\n",
    "console.log(formattedPromptWithDate);\n",
    "// 输出: 今天是2023/7/13，我们去爬山。\n"
   ],
   "outputs": [
    {
     "name": "stdout",
     "output_type": "stream",
     "text": [
      "今天是5/24/2024，我们去爬山。\n"
     ]
    }
   ],
   "execution_count": 7
  },
  {
   "cell_type": "code",
   "metadata": {
    "ExecuteTime": {
     "end_time": "2024-05-23T17:05:32.877560Z",
     "start_time": "2024-05-23T17:05:32.875916Z"
    }
   },
   "source": [
    "const getCurrentDateStr = () => {\n",
    "  return new Date().toLocaleDateString();\n",
    "};\n",
    "\n",
    "function generateGreeting(timeOfDay) {\n",
    "  return () => {\n",
    "    const date = getCurrentDateStr()\n",
    "    switch (timeOfDay) {\n",
    "      case 'morning':\n",
    "        return date + ' 早上好';\n",
    "      case 'afternoon':\n",
    "        return date + ' 下午好';\n",
    "      case 'evening':\n",
    "        return date + ' 晚上好';\n",
    "      default:\n",
    "        return date + ' 你好';\n",
    "    }\n",
    "  };\n",
    "}\n",
    "\n",
    "const prompt = new PromptTemplate({\n",
    "  template: \"{greeting}!\",\n",
    "  inputVariables: [\"greeting\"],\n",
    "});\n",
    "\n",
    "const currentTimeOfDay = 'afternoon';\n",
    "const partialPrompt = await prompt.partial({\n",
    "  greeting: generateGreeting(currentTimeOfDay),\n",
    "});\n",
    "\n",
    "const formattedPrompt = await partialPrompt.format();\n",
    "\n",
    "console.log(formattedPrompt);\n",
    "// 输出: 3/21/2024 下午好!\n"
   ],
   "outputs": [
    {
     "name": "stdout",
     "output_type": "stream",
     "text": [
      "5/24/2024 下午好!\n"
     ]
    }
   ],
   "execution_count": 8
  },
  {
   "cell_type": "code",
   "metadata": {
    "ExecuteTime": {
     "end_time": "2024-05-23T17:05:35.904776Z",
     "start_time": "2024-05-23T17:05:35.900294Z"
    }
   },
   "source": [
    "import { SystemMessagePromptTemplate } from \"@langchain/core/prompts\";\n",
    "\n",
    "const translateInstructionTemplate = SystemMessagePromptTemplate.fromTemplate(\"你是一个专业的翻译员，你的任务是将文本从{source_lang}翻译成{target_lang}。\");"
   ],
   "outputs": [],
   "execution_count": 9
  },
  {
   "cell_type": "code",
   "metadata": {
    "ExecuteTime": {
     "end_time": "2024-05-23T17:05:41.269308Z",
     "start_time": "2024-05-23T17:05:41.263686Z"
    }
   },
   "source": [
    "import { HumanMessagePromptTemplate } from \"@langchain/core/prompts\";\n",
    "\n",
    "const userQuestionTemplate = HumanMessagePromptTemplate.fromTemplate(\"请翻译这句话：{text}\")\n"
   ],
   "outputs": [],
   "execution_count": 10
  },
  {
   "cell_type": "code",
   "metadata": {
    "ExecuteTime": {
     "end_time": "2024-05-23T17:05:42.684385Z",
     "start_time": "2024-05-23T17:05:42.679798Z"
    }
   },
   "source": [
    "import { ChatPromptTemplate } from \"@langchain/core/prompts\";\n",
    "\n",
    "const chatPrompt = ChatPromptTemplate.fromMessages([\n",
    "  translateInstructionTemplate,\n",
    "  userQuestionTemplate,\n",
    "]);"
   ],
   "outputs": [],
   "execution_count": 11
  },
  {
   "cell_type": "code",
   "metadata": {
    "ExecuteTime": {
     "end_time": "2024-05-23T17:05:43.907124Z",
     "start_time": "2024-05-23T17:05:43.904427Z"
    }
   },
   "source": [
    "const formattedChatPrompt = await chatPrompt.formatMessages({\n",
    "  source_lang: \"中文\",\n",
    "  target_lang: \"法语\",\n",
    "  text: \"你好，世界\",\n",
    "});\n",
    "formattedChatPrompt"
   ],
   "outputs": [
    {
     "data": {
      "text/plain": [
       "[\n",
       "  SystemMessage {\n",
       "    lc_serializable: \u001B[33mtrue\u001B[39m,\n",
       "    lc_kwargs: {\n",
       "      content: \u001B[32m\"你是一个专业的翻译员，你的任务是将文本从中文翻译成法语。\"\u001B[39m,\n",
       "      additional_kwargs: {},\n",
       "      response_metadata: {}\n",
       "    },\n",
       "    lc_namespace: [ \u001B[32m\"langchain_core\"\u001B[39m, \u001B[32m\"messages\"\u001B[39m ],\n",
       "    content: \u001B[32m\"你是一个专业的翻译员，你的任务是将文本从中文翻译成法语。\"\u001B[39m,\n",
       "    name: \u001B[90mundefined\u001B[39m,\n",
       "    additional_kwargs: {},\n",
       "    response_metadata: {}\n",
       "  },\n",
       "  HumanMessage {\n",
       "    lc_serializable: \u001B[33mtrue\u001B[39m,\n",
       "    lc_kwargs: {\n",
       "      content: \u001B[32m\"请翻译这句话：你好，世界\"\u001B[39m,\n",
       "      additional_kwargs: {},\n",
       "      response_metadata: {}\n",
       "    },\n",
       "    lc_namespace: [ \u001B[32m\"langchain_core\"\u001B[39m, \u001B[32m\"messages\"\u001B[39m ],\n",
       "    content: \u001B[32m\"请翻译这句话：你好，世界\"\u001B[39m,\n",
       "    name: \u001B[90mundefined\u001B[39m,\n",
       "    additional_kwargs: {},\n",
       "    response_metadata: {}\n",
       "  }\n",
       "]"
      ]
     },
     "execution_count": 12,
     "metadata": {},
     "output_type": "execute_result"
    }
   ],
   "execution_count": 12
  },
  {
   "cell_type": "code",
   "metadata": {
    "ExecuteTime": {
     "end_time": "2024-05-23T17:05:52.511793Z",
     "start_time": "2024-05-23T17:05:52.510988Z"
    }
   },
   "source": [
    "const systemTemplate = \"你是一个专业的翻译员，你的任务是将文本从{source_lang}翻译成{target_lang}。\";\n",
    "const humanTemplate = \"请翻译这句话：{text}\";\n",
    "\n",
    "const chatPrompt = ChatPromptTemplate.fromMessages([\n",
    "  [\"system\", systemTemplate],\n",
    "  [\"human\", humanTemplate],\n",
    "]);"
   ],
   "outputs": [],
   "execution_count": 13
  },
  {
   "cell_type": "code",
   "metadata": {
    "ExecuteTime": {
     "end_time": "2024-05-23T17:06:26.842314Z",
     "start_time": "2024-05-23T17:06:26.835501Z"
    }
   },
   "source": [
    "import { load } from \"dotenv\";\n",
    "import { ChatOpenAI } from \"@langchain/openai\";\n",
    "import { StringOutputParser } from \"@langchain/core/output_parsers\";\n",
    "\n",
    "const env = await load();\n",
    "const process = {\n",
    "    env\n",
    "}\n",
    "\n",
    "//const chatModel = new ChatOpenAI();\n",
    "const chatModel = new ChatOpenAI({\n",
    "    configuration: {\n",
    "        baseURL: \"https://blog.sayyou.icu/v1\",\n",
    "    },\n",
    "});\n",
    "const outputPraser = new StringOutputParser();"
   ],
   "outputs": [],
   "execution_count": 16
  },
  {
   "cell_type": "code",
   "metadata": {
    "ExecuteTime": {
     "end_time": "2024-05-23T17:06:31.024251Z",
     "start_time": "2024-05-23T17:06:27.937696Z"
    }
   },
   "source": [
    "const chain = chatPrompt.pipe(chatModel).pipe(outputPraser);\n",
    "\n",
    "await chain.invoke({\n",
    "  source_lang: \"中文\",\n",
    "  target_lang: \"法语\",\n",
    "  text: \"你好，世界\",\n",
    "})"
   ],
   "outputs": [
    {
     "data": {
      "text/plain": [
       "\u001B[32m\"翻译：Bonjour, le monde\"\u001B[39m"
      ]
     },
     "execution_count": 17,
     "metadata": {},
     "output_type": "execute_result"
    }
   ],
   "execution_count": 17
  },
  {
   "cell_type": "code",
   "metadata": {
    "ExecuteTime": {
     "end_time": "2024-05-23T17:07:15.420623Z",
     "start_time": "2024-05-23T17:07:15.414853Z"
    }
   },
   "source": [
    "import {\n",
    "  PromptTemplate,\n",
    "  PipelinePromptTemplate,\n",
    "} from \"@langchain/core/prompts\";\n",
    "\n",
    "const getCurrentDateStr = () => {\n",
    "  return new Date().toLocaleDateString();\n",
    "};\n",
    "\n",
    "const fullPrompt = PromptTemplate.fromTemplate(`\n",
    "你是一个智能管家，今天是 {date}，你的主人的信息是{info}, \n",
    "根据上下文，完成主人的需求\n",
    "{task}`);\n",
    "\n",
    "const datePrompt = PromptTemplate.fromTemplate(\"{date}，现在是 {period}\")\n",
    "const periodPrompt = await datePrompt.partial({\n",
    "    date: getCurrentDateStr\n",
    "})\n",
    "\n",
    "const infoPrompt =  PromptTemplate.fromTemplate(\"姓名是 {name}, 性别是 {gender}\");\n",
    "\n",
    "const taskPrompt = PromptTemplate.fromTemplate(`\n",
    "我想吃 {period} 的 {food}。 \n",
    "再重复一遍我的信息 {info}`);\n",
    "\n",
    "const composedPrompt = new PipelinePromptTemplate({\n",
    "  pipelinePrompts: [\n",
    "    {\n",
    "      name: \"date\",\n",
    "      prompt: periodPrompt,\n",
    "    },\n",
    "    {\n",
    "      name: \"info\",\n",
    "      prompt: infoPrompt,\n",
    "    },\n",
    "    {\n",
    "      name: \"task\",\n",
    "      prompt: taskPrompt,\n",
    "    },\n",
    "  ],\n",
    "  finalPrompt: fullPrompt,\n",
    "});\n",
    "\n",
    "const formattedPrompt = await composedPrompt.format({\n",
    "    period: \"早上\",\n",
    "    name: \"张三\",\n",
    "    gender: \"male\",\n",
    "    food: \"lemon\"\n",
    "});\n",
    "\n",
    "console.log(formattedPrompt)"
   ],
   "outputs": [
    {
     "name": "stdout",
     "output_type": "stream",
     "text": [
      "\n",
      "你是一个智能管家，今天是 5/24/2024，现在是 早上，你的主人的信息是姓名是 张三, 性别是 male, \n",
      "根据上下文，完成主人的需求\n",
      "\n",
      "我想吃 早上 的 lemon。 \n",
      "再重复一遍我的信息 姓名是 张三, 性别是 male\n"
     ]
    }
   ],
   "execution_count": 18
  },
  {
   "metadata": {},
   "cell_type": "code",
   "outputs": [],
   "execution_count": null,
   "source": ""
  }
 ],
 "metadata": {
  "kernelspec": {
   "display_name": "Deno",
   "language": "typescript",
   "name": "deno"
  },
  "language_info": {
   "file_extension": ".ts",
   "mimetype": "text/x.typescript",
   "name": "typescript",
   "nb_converter": "script",
   "pygments_lexer": "typescript",
   "version": "5.3.3"
  }
 },
 "nbformat": 4,
 "nbformat_minor": 4
}
