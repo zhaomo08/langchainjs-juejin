{
 "cells": [
  {
   "cell_type": "code",
   "execution_count": null,
   "id": "99d4e05f-8ab3-423e-826f-510c1d8d9c7e",
   "metadata": {},
   "outputs": [],
   "source": [
    "import { load } from \"dotenv\";\n",
    "const env = await load();\n",
    "\n",
    "const process = {\n",
    "    env\n",
    "}"
   ]
  },
  {
   "cell_type": "code",
   "execution_count": null,
   "id": "bd0df1a9-372e-42c3-b6e5-c899197ba7eb",
   "metadata": {},
   "outputs": [],
   "source": [
    "import { ChatOpenAI } from \"@langchain/openai\";\n",
    "import { BufferMemory } from \"langchain/memory\";\n",
    "import { ConversationChain } from \"langchain/chains\";\n",
    "\n",
    "\n",
    "const chatModel = new ChatOpenAI();\n",
    "const memory = new BufferMemory();\n",
    "const chain = new ConversationChain({ llm: chatModel, memory: memory, verbose: true });\n",
    "const res1 = await chain.call({ input: \"我是小明\" });"
   ]
  },
  {
   "cell_type": "code",
   "execution_count": null,
   "id": "2c57bf9c-9ce9-411c-b7b6-cc55d6d8743c",
   "metadata": {},
   "outputs": [],
   "source": [
    "res1"
   ]
  },
  {
   "cell_type": "code",
   "execution_count": null,
   "id": "493ac179-0863-4677-a69f-346a43436ea7",
   "metadata": {},
   "outputs": [],
   "source": [
    "const res2 = await chain.call({ input: \"我叫什么？\" });"
   ]
  },
  {
   "cell_type": "code",
   "execution_count": null,
   "id": "5d6253e8-40fb-4772-b781-168298085b5a",
   "metadata": {},
   "outputs": [],
   "source": [
    "res2"
   ]
  },
  {
   "cell_type": "code",
   "execution_count": null,
   "id": "6b8077dc-9a9a-48c2-a13c-a88f2a94a76c",
   "metadata": {},
   "outputs": [],
   "source": [
    "import { ChatOpenAI } from \"@langchain/openai\";\n",
    "import { BufferWindowMemory } from \"langchain/memory\";\n",
    "import { ConversationChain } from \"langchain/chains\";\n",
    "\n",
    "const model = new ChatOpenAI();\n",
    "const memory = new BufferWindowMemory({ k: 1 });\n",
    "const chain = new ConversationChain({ llm: model, memory: memory });"
   ]
  },
  {
   "cell_type": "code",
   "execution_count": null,
   "id": "30e70614-888b-431e-ab0b-9407cd670d51",
   "metadata": {},
   "outputs": [],
   "source": [
    "import { ConversationSummaryMemory } from \"langchain/memory\";\n",
    "import { PromptTemplate } from \"@langchain/core/prompts\";\n",
    "\n",
    "const memory = new ConversationSummaryMemory({\n",
    "    memoryKey: \"summary\",\n",
    "    llm: new ChatOpenAI({\n",
    "          verbose: true,\n",
    "    }),\n",
    "  });\n",
    "\n",
    "const model = new ChatOpenAI();\n",
    "const prompt = PromptTemplate.fromTemplate(`\n",
    "你是一个乐于助人的助手。尽你所能回答所有问题。\n",
    "\n",
    "这是聊天记录的摘要:\n",
    "{summary}\n",
    "Human: {input}\n",
    "AI:`);\n",
    "const chain = new ConversationChain({ llm: model, prompt, memory, verbose: true });"
   ]
  },
  {
   "cell_type": "code",
   "execution_count": null,
   "id": "21221a69-02c2-4bac-b27b-56ffcd015740",
   "metadata": {},
   "outputs": [],
   "source": [
    "const res1 = await chain.call({ input: \"我是小明\" });"
   ]
  },
  {
   "cell_type": "code",
   "execution_count": null,
   "id": "53d89513-faf5-4093-929b-76bc3a38a59d",
   "metadata": {},
   "outputs": [],
   "source": [
    "const res2 = await chain.call({ input: \"我叫什么？\" });"
   ]
  },
  {
   "cell_type": "code",
   "execution_count": null,
   "id": "b988d5dd-bf44-4d52-8380-f179059694f6",
   "metadata": {},
   "outputs": [],
   "source": [
    "import { ChatOpenAI } from \"@langchain/openai\";\n",
    "import { ConversationSummaryBufferMemory } from \"langchain/memory\";\n",
    "import { ConversationChain } from \"langchain/chains\";\n",
    "\n",
    "const model = new ChatOpenAI();\n",
    "const memory = new ConversationSummaryBufferMemory({\n",
    "  llm: new ChatOpenAI(),\n",
    "  maxTokenLimit: 200\n",
    "});\n",
    "const chain = new ConversationChain({ llm: model, memory: memory, verbose: true });\n"
   ]
  },
  {
   "cell_type": "code",
   "execution_count": null,
   "id": "c856db57-7ca2-4005-8160-54e0bf61c4b3",
   "metadata": {},
   "outputs": [],
   "source": [
    "const res1 = await chain.call({ input: \"我是小明\" });"
   ]
  },
  {
   "cell_type": "code",
   "execution_count": null,
   "id": "14948a02-2c4d-4269-9a81-aab2af9e3495",
   "metadata": {},
   "outputs": [],
   "source": [
    "const res2 = await chain.call({ input: \"我叫什么？\" });"
   ]
  },
  {
   "cell_type": "code",
   "execution_count": null,
   "id": "9b750490-ee19-48c4-99b9-8d511d16ea5f",
   "metadata": {},
   "outputs": [],
   "source": [
    "import { ChatOpenAI } from \"@langchain/openai\";\n",
    "import { EntityMemory, ENTITY_MEMORY_CONVERSATION_TEMPLATE } from \"langchain/memory\";\n",
    "import { ConversationChain } from \"langchain/chains\";\n",
    "\n",
    "const model = new ChatOpenAI();\n",
    "const memory = new EntityMemory({\n",
    "    llm: new ChatOpenAI({\n",
    "        verbose: true \n",
    "    }),\n",
    "    chatHistoryKey: \"history\",\n",
    "    entitiesKey: \"entities\"\n",
    "});\n",
    "const chain = new ConversationChain({ \n",
    "    llm: model, \n",
    "    prompt: ENTITY_MEMORY_CONVERSATION_TEMPLATE,\n",
    "    memory: memory, \n",
    "    verbose: true \n",
    "});\n"
   ]
  },
  {
   "cell_type": "code",
   "execution_count": null,
   "id": "79a8928d-c265-4f8d-b7be-ca770aa94ad9",
   "metadata": {},
   "outputs": [],
   "source": [
    "const res1 = await chain.call({ input: \"我叫小明，今年 18 岁\" });"
   ]
  },
  {
   "cell_type": "code",
   "execution_count": null,
   "id": "d2d5d7ff-5e8b-4957-86a3-90680ead06be",
   "metadata": {},
   "outputs": [],
   "source": [
    "const res2 = await chain.call({ input: \"ABC 是一家互联网公司，主要是售卖方便面的公司\" });"
   ]
  },
  {
   "cell_type": "code",
   "execution_count": null,
   "id": "7f215e7a-9d5d-4ebf-bfd5-386bf659dbd2",
   "metadata": {},
   "outputs": [],
   "source": [
    "const res3 = await chain.call({ input: \"介绍小明\" });"
   ]
  },
  {
   "cell_type": "code",
   "execution_count": null,
   "id": "1e52d2ed-cb69-44f5-afd6-f1ac490af1b8",
   "metadata": {},
   "outputs": [],
   "source": [
    "const res3 = await chain.call({ input: \"介绍小明和 ABC\" });"
   ]
  },
  {
   "cell_type": "code",
   "execution_count": null,
   "id": "7caf9f39-eed8-4662-af39-1f630350ef23",
   "metadata": {},
   "outputs": [],
   "source": [
    "const test1 = await memory.loadMemoryVariables({\n",
    "    input: \"介绍小明和 ABC\"\n",
    "})"
   ]
  },
  {
   "cell_type": "code",
   "execution_count": null,
   "id": "fac64626-1cb4-457a-ad56-a17ecf58d23c",
   "metadata": {},
   "outputs": [],
   "source": []
  }
 ],
 "metadata": {
  "kernelspec": {
   "display_name": "Deno",
   "language": "typescript",
   "name": "deno"
  },
  "language_info": {
   "file_extension": ".ts",
   "mimetype": "text/x.typescript",
   "name": "typescript",
   "nb_converter": "script",
   "pygments_lexer": "typescript",
   "version": "5.3.3"
  }
 },
 "nbformat": 4,
 "nbformat_minor": 5
}
