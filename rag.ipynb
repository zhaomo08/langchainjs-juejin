{
 "cells": [
  {
   "cell_type": "code",
   "execution_count": 1,
   "metadata": {},
   "outputs": [],
   "source": [
    "import { load } from \"dotenv\";\n",
    "const env = await load();\n",
    "\n",
    "const process = {\n",
    "    env\n",
    "}"
   ]
  },
  {
   "cell_type": "code",
   "execution_count": 2,
   "metadata": {},
   "outputs": [],
   "source": [
    "const { TextLoader } = await import(\"npm:langchain@0.1.29/document_loaders/fs/text\");\n",
    "\n",
    "const loader = new TextLoader(\"data/qiu.txt\");\n",
    "const docs = await loader.load();"
   ]
  },
  {
   "cell_type": "code",
   "execution_count": 3,
   "metadata": {},
   "outputs": [],
   "source": [
    "import { RecursiveCharacterTextSplitter } from \"langchain/text_splitter\";\n",
    "\n",
    "const splitter = new RecursiveCharacterTextSplitter({\n",
    "    chunkSize: 500,\n",
    "    chunkOverlap: 100,\n",
    "  });\n",
    "\n",
    "const splitDocs = await splitter.splitDocuments(docs);\n"
   ]
  },
  {
   "cell_type": "code",
   "execution_count": 4,
   "metadata": {},
   "outputs": [
    {
     "name": "stdout",
     "output_type": "stream",
     "text": [
      "Document {\n",
      "  pageContent: \"序曲\\n\" +\n",
      "    \"　　今天是我的生日，直到晚上爸爸妈妈点上了生日蛋糕的蜡烛，我们三个围着十四个小火苗坐下来，我才想起这事。\\n\" +\n",
      "    \"　　这是个雷雨之夜，整个宇宙似乎是由密集的闪电和我们的小屋组成。当那蓝色的电光闪起时，窗外的雨珠在一瞬间看得清清楚楚，那雨珠似乎凝固了，像密密地挂在天地间的一串串晶莹的水晶。这时我的脑海中就有一个闪念：世界要是那样的也很有意思，你每天一出门，就在那水晶的密帘中走路，它们在你周围发出丁零丁零的响声，只是，这样玲珑剔透的世界，如何经得住那暴烈的雷电呢……世界在我的眼中总和在别人眼中不一样，我总是努力使世界变形，这是我长这么大对自己唯一的认识。\\n\" +\n",
      "    \"　　暴雨是从傍晚开始的，自那以后闪电和雷声越来越密，开始，每当一道闪电过后，我脑海中一边回忆着刚才窗外那转瞬即逝的水晶世界，一边绷紧头皮等待着那一声炸雷，但现在，闪电太密集了，我已分不出哪声雷属于哪个闪电了。\",\n",
      "  metadata: { source: \"data/qiu.txt\", loc: { lines: { from: 25, to: 28 } } }\n",
      "}\n"
     ]
    }
   ],
   "source": [
    "console.log(splitDocs[4])"
   ]
  },
  {
   "cell_type": "code",
   "execution_count": 5,
   "metadata": {},
   "outputs": [
    {
     "name": "stdout",
     "output_type": "stream",
     "text": [
      "序曲\n",
      "　　今天是我的生日，直到晚上爸爸妈妈点上了生日蛋糕的蜡烛，我们三个围着十四个小火苗坐下来，我才想起这事。\n",
      "　　这是个雷雨之夜，整个宇宙似乎是由密集的闪电和我们的小屋组成。当那蓝色的电光闪起时，窗外的雨珠在一瞬间看得清清楚楚，那雨珠似乎凝固了，像密密地挂在天地间的一串串晶莹的水晶。这时我的脑海中就有一个闪念：世界要是那样的也很有意思，你每天一出门，就在那水晶的密帘中走路，它们在你周围发出丁零丁零的响声，只是，这样玲珑剔透的世界，如何经得住那暴烈的雷电呢……世界在我的眼中总和在别人眼中不一样，我总是努力使世界变形，这是我长这么大对自己唯一的认识。\n",
      "　　暴雨是从傍晚开始的，自那以后闪电和雷声越来越密，开始，每当一道闪电过后，我脑海中一边回忆着刚才窗外那转瞬即逝的水晶世界，一边绷紧头皮等待着那一声炸雷，但现在，闪电太密集了，我已分不出哪声雷属于哪个闪电了。\n"
     ]
    }
   ],
   "source": [
    "console.log(splitDocs[4].pageContent)"
   ]
  },
  {
   "cell_type": "code",
   "execution_count": 8,
   "metadata": {},
   "outputs": [],
   "source": [
    "// import { OpenAIEmbeddings } from \"@langchain/openai\";\n",
    "\n",
    "\n",
    "// const embeddings = new OpenAIEmbeddings();\n",
    "import { OllamaEmbeddings } from \"@langchain/ollama\";\n",
    "\n",
    "\n",
    " const embeddings = new OllamaEmbeddings({\n",
    "    model: \"nomic-embed-text\", // 或 \"all-minilm\"\n",
    "  });"
   ]
  },
  {
   "cell_type": "code",
   "execution_count": 9,
   "metadata": {},
   "outputs": [],
   "source": [
    "import { MemoryVectorStore } from \"langchain/vectorstores/memory\";\n",
    "\n",
    "const vectorstore = new MemoryVectorStore(embeddings);\n",
    "await vectorstore.addDocuments(splitDocs);"
   ]
  },
  {
   "cell_type": "code",
   "execution_count": 10,
   "metadata": {},
   "outputs": [],
   "source": [
    "const retriever = vectorstore.asRetriever(2)"
   ]
  },
  {
   "cell_type": "code",
   "execution_count": 11,
   "metadata": {},
   "outputs": [],
   "source": [
    "const res = await retriever.invoke(\"原文中，谁提出了宏原子的假设？并详细介绍给我宏原子假设的理论\")"
   ]
  },
  {
   "cell_type": "code",
   "execution_count": 12,
   "metadata": {},
   "outputs": [
    {
     "data": {
      "text/plain": [
       "[\n",
       "  Document {\n",
       "    pageContent: \u001b[32m\"“宏原子核？”\\n\"\u001b[39m +\n",
       "      \u001b[32m\"　　“是的，通过观测一个宏电子在空间中的运动，借助这个数学模型，我们就能精确定位这个宏电子对应的原子核的准确位置。”\\n\"\u001b[39m +\n",
       "      \u001b[32m\"　　“可我们怎么样才能探测到那个原子核呢？”\\n\"\u001b[39m +\n",
       "      \u001b[32m\"　　“同宏电子一样，这事情同样惊人地简单：我们能用肉眼看到它。”\\n\"\u001b[39m +\n",
       "      \u001b[32m\"　　“哇……它看上去是什么样儿？你好像说过，原子核的外形与宏电子的空泡形状完全不同。”\\n\"\u001b[39m +\n",
       "      \u001b[32m\"　　“弦。”\\n\"\u001b[39m +\n",
       "      \u001b[32m\"　　“弦？”\\n\"\u001b[39m +\n",
       "      \u001b[32m\"　　“对，一根弦，它看上去是一根弦。”\\n\"\u001b[39m +\n",
       "      \u001b[32m\"　　“多长多粗的弦呢？”\\n\"\u001b[39m +\n",
       "      \u001b[32m\"　　“它与宏电子基本处于一个尺度级别，长度大约在一到两米之间，依原子的种类不同而异，至于粗细，弦是无限细的，它上面的每一点都是没有大小的奇点。”\\n\"\u001b[39m +\n",
       "      \u001b[32m\"　　“我们怎么可能用肉眼看到一根无限细的弦？”\\n\"\u001b[39m +\n",
       "      \u001b[32m\"　　“因为光线在它的附近同样会发生弯曲。”\\n\"\u001b[39m +\n",
       "      \u001b[32m\"　　“那它看上去是什么样子呢？”\\n\"\u001b[39m +\n",
       "      \u001b[32m\"　　丁仪半闭着双眼，仿佛一个刚刚睡醒的人在回忆着刚才的梦，“它看上去，就像一条透明的水晶蛇，像一根无法自缢的绳索。”\\n\"\u001b[39m +\n",
       "      \u001b[32m\"　　“后一个比喻好奇怪。”\\n\"\u001b[39m +\n",
       "      \u001b[32m\"　　“因为这根弦已经是组成宏物质的最小单位，它是不可能被剪断的。”\"\u001b[39m,\n",
       "    metadata: {\n",
       "      source: \u001b[32m\"data/qiu.txt\"\u001b[39m,\n",
       "      loc: { lines: { from: \u001b[33m2205\u001b[39m, to: \u001b[33m2220\u001b[39m } }\n",
       "    }\n",
       "  },\n",
       "  Document {\n",
       "    pageContent: \u001b[32m\"胜利\\n\"\u001b[39m +\n",
       "      \u001b[32m\"　　丁仪讲完时，外面天已大亮，战火中的城市迎来又一个早晨。\\n\"\u001b[39m +\n",
       "      \u001b[32m\"　　“你编得不错，如果是为了安慰我，你成功了。”我说。\\n\"\u001b[39m +\n",
       "      \u001b[32m\"　　“想想你刚听到的那些，我编得出来吗？”\\n\"\u001b[39m +\n",
       "      \u001b[32m\"　　“量子态的她被你们观察那么久竟不会坍缩？”\\n\"\u001b[39m +\n",
       "      \u001b[32m\"　　“其实，在第一次发现宏观量子态的存在时，我就一直在思考一个问题：一个量子态的有意识的个体，与普通的无意识量子有一个极其重要的区别，在描述前者的波函数中，我们忽略了一个至关重要的参数，具体说是忽略了一个观察者。”\\n\"\u001b[39m +\n",
       "      \u001b[32m\"　　“观察者？谁？”\\n\"\u001b[39m +\n",
       "      \u001b[32m\"　　“它自己，与普通量子粒子不同，有意识的量子态个体能够进行自我观察。”\\n\"\u001b[39m +\n",
       "      \u001b[32m\"　　“是这样，那么这种自我观察能起什么作用呢？”\\n\"\u001b[39m +\n",
       "      \u001b[32m\"　　“你看到了，它能抵消其他的观察者，维持量子态不坍缩。”\\n\"\u001b[39m +\n",
       "      \u001b[32m\"　　“那么，这种自我观察是如何进行的呢？”\\n\"\u001b[39m +\n",
       "      \u001b[32m\"　　“那无疑是一种极其复杂的过程，恐怕我们无法想象。”\\n\"\u001b[39m +\n",
       "      \u001b[32m\"　　“那么她还会那样回来吗？”我满怀希望地问出了这个最关键的问题。\"\u001b[39m,\n",
       "    metadata: {\n",
       "      source: \u001b[32m\"data/qiu.txt\"\u001b[39m,\n",
       "      loc: { lines: { from: \u001b[33m2547\u001b[39m, to: \u001b[33m2559\u001b[39m } }\n",
       "    }\n",
       "  }\n",
       "]"
      ]
     },
     "execution_count": 12,
     "metadata": {},
     "output_type": "execute_result"
    }
   ],
   "source": [
    "res"
   ]
  },
  {
   "cell_type": "code",
   "execution_count": 13,
   "metadata": {},
   "outputs": [],
   "source": [
    "import { RunnableSequence } from \"@langchain/core/runnables\";\n",
    "import { Document } from \"@langchain/core/documents\";\n",
    "\n",
    "const convertDocsToString = (documents: Document[]): string => {\n",
    "     return documents.map((document) => document.pageContent).join(\"\\n\")\n",
    "    }\n",
    "const contextRetriverChain = RunnableSequence.from([\n",
    "    (input) => input.question,\n",
    "    retriever,\n",
    "    convertDocsToString\n",
    "])"
   ]
  },
  {
   "cell_type": "code",
   "execution_count": 14,
   "metadata": {},
   "outputs": [
    {
     "name": "stdout",
     "output_type": "stream",
     "text": [
      "“宏原子核？”\n",
      "　　“是的，通过观测一个宏电子在空间中的运动，借助这个数学模型，我们就能精确定位这个宏电子对应的原子核的准确位置。”\n",
      "　　“可我们怎么样才能探测到那个原子核呢？”\n",
      "　　“同宏电子一样，这事情同样惊人地简单：我们能用肉眼看到它。”\n",
      "　　“哇……它看上去是什么样儿？你好像说过，原子核的外形与宏电子的空泡形状完全不同。”\n",
      "　　“弦。”\n",
      "　　“弦？”\n",
      "　　“对，一根弦，它看上去是一根弦。”\n",
      "　　“多长多粗的弦呢？”\n",
      "　　“它与宏电子基本处于一个尺度级别，长度大约在一到两米之间，依原子的种类不同而异，至于粗细，弦是无限细的，它上面的每一点都是没有大小的奇点。”\n",
      "　　“我们怎么可能用肉眼看到一根无限细的弦？”\n",
      "　　“因为光线在它的附近同样会发生弯曲。”\n",
      "　　“那它看上去是什么样子呢？”\n",
      "　　丁仪半闭着双眼，仿佛一个刚刚睡醒的人在回忆着刚才的梦，“它看上去，就像一条透明的水晶蛇，像一根无法自缢的绳索。”\n",
      "　　“后一个比喻好奇怪。”\n",
      "　　“因为这根弦已经是组成宏物质的最小单位，它是不可能被剪断的。”\n",
      "胜利\n",
      "　　丁仪讲完时，外面天已大亮，战火中的城市迎来又一个早晨。\n",
      "　　“你编得不错，如果是为了安慰我，你成功了。”我说。\n",
      "　　“想想你刚听到的那些，我编得出来吗？”\n",
      "　　“量子态的她被你们观察那么久竟不会坍缩？”\n",
      "　　“其实，在第一次发现宏观量子态的存在时，我就一直在思考一个问题：一个量子态的有意识的个体，与普通的无意识量子有一个极其重要的区别，在描述前者的波函数中，我们忽略了一个至关重要的参数，具体说是忽略了一个观察者。”\n",
      "　　“观察者？谁？”\n",
      "　　“它自己，与普通量子粒子不同，有意识的量子态个体能够进行自我观察。”\n",
      "　　“是这样，那么这种自我观察能起什么作用呢？”\n",
      "　　“你看到了，它能抵消其他的观察者，维持量子态不坍缩。”\n",
      "　　“那么，这种自我观察是如何进行的呢？”\n",
      "　　“那无疑是一种极其复杂的过程，恐怕我们无法想象。”\n",
      "　　“那么她还会那样回来吗？”我满怀希望地问出了这个最关键的问题。\n"
     ]
    }
   ],
   "source": [
    "const result = await contextRetriverChain.invoke({ question: \"原文中，谁提出了宏原子的假设？并详细介绍给我宏原子假设的理论\"})\n",
    "\n",
    "console.log(result)"
   ]
  },
  {
   "cell_type": "code",
   "execution_count": 15,
   "metadata": {},
   "outputs": [],
   "source": [
    "import { ChatPromptTemplate } from \"@langchain/core/prompts\";\n",
    "\n",
    "const TEMPLATE = `\n",
    "你是一个熟读刘慈欣的《球状闪电》的终极原著党，精通根据作品原文详细解释和回答问题，你在回答时会引用作品原文。\n",
    "并且回答时仅根据原文，尽可能回答用户问题，如果原文中没有相关内容，你可以回答“原文中没有相关内容”，\n",
    "\n",
    "以下是原文中跟用户回答相关的内容：\n",
    "{context}\n",
    "\n",
    "现在，你需要基于原文，回答以下问题：\n",
    "{question}`;\n",
    "\n",
    "const prompt = ChatPromptTemplate.fromTemplate(\n",
    "    TEMPLATE\n",
    ");"
   ]
  },
  {
   "cell_type": "code",
   "execution_count": 16,
   "metadata": {},
   "outputs": [],
   "source": [
    "// import { ChatOpenAI } from \"@langchain/openai\";\n",
    "\n",
    "// const model = new ChatOpenAI();\n",
    "import { Ollama } from \"@langchain/community/llms/ollama\";\n",
    "\n",
    "const model = new Ollama({\n",
    "    baseUrl: \"http://localhost:11434\",\n",
    "    model: \"llama3:latest\"\n",
    "});\n"
   ]
  },
  {
   "cell_type": "code",
   "execution_count": 17,
   "metadata": {},
   "outputs": [],
   "source": [
    "import { StringOutputParser } from \"@langchain/core/output_parsers\";\n",
    "\n",
    "const ragChain = RunnableSequence.from([\n",
    "    {\n",
    "        context: contextRetriverChain,\n",
    "        question: (input) => input.question,\n",
    "    },\n",
    "    prompt,\n",
    "    model,\n",
    "    new StringOutputParser()\n",
    "])"
   ]
  },
  {
   "cell_type": "code",
   "execution_count": null,
   "metadata": {},
   "outputs": [],
   "source": [
    "const answer = await ragChain.invoke({\n",
    "    question: \"什么是球状闪电\"\n",
    "  });\n",
    "  \n",
    "  console.log(answer);"
   ]
  },
  {
   "cell_type": "code",
   "execution_count": null,
   "metadata": {},
   "outputs": [],
   "source": [
    "const answer = await ragChain.invoke({\n",
    "    question: \"详细描述原文中有什么跟直升机相关的场景\"\n",
    "  });\n",
    "\n",
    "console.log(answer);"
   ]
  }
 ],
 "metadata": {
  "kernelspec": {
   "display_name": "Deno",
   "language": "typescript",
   "name": "deno"
  },
  "language_info": {
   "codemirror_mode": "typescript",
   "file_extension": ".ts",
   "mimetype": "text/x.typescript",
   "name": "typescript",
   "nbconvert_exporter": "script",
   "pygments_lexer": "typescript",
   "version": "5.8.3"
  }
 },
 "nbformat": 4,
 "nbformat_minor": 4
}
