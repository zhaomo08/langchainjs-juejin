{
 "cells": [
  {
   "cell_type": "code",
   "execution_count": 1,
   "id": "c1baeaa15b65f2e6",
   "metadata": {
    "jupyter": {
     "is_executing": true
    }
   },
   "outputs": [],
   "source": [
    "// const text = await Deno.readTextFile(\"./data/qiu.txt\");\n",
    "const text = \"abc\""
   ]
  },
  {
   "cell_type": "code",
   "execution_count": 2,
   "id": "5f4637887fa946de",
   "metadata": {},
   "outputs": [
    {
     "data": {
      "text/plain": [
       "\u001b[32m\"abc\"\u001b[39m"
      ]
     },
     "execution_count": 2,
     "metadata": {},
     "output_type": "execute_result"
    }
   ],
   "source": [
    "text"
   ]
  },
  {
   "cell_type": "code",
   "execution_count": null,
   "id": "f3da9ef97e425a7c",
   "metadata": {},
   "outputs": [],
   "source": []
  },
  {
   "cell_type": "code",
   "execution_count": 3,
   "id": "58503b710859eeb3",
   "metadata": {},
   "outputs": [
    {
     "data": {
      "text/plain": [
       "[ \u001b[32m\"abc\"\u001b[39m ]"
      ]
     },
     "execution_count": 3,
     "metadata": {},
     "output_type": "execute_result"
    }
   ],
   "source": [
    "const lines = text.split(\"\\r\")\n",
    "lines"
   ]
  },
  {
   "cell_type": "markdown",
   "id": "615af63c594707fc",
   "metadata": {},
   "source": [
    "# Deno 测试"
   ]
  },
  {
   "cell_type": "code",
   "execution_count": 4,
   "id": "87a0b17fb5a66965",
   "metadata": {},
   "outputs": [],
   "source": [
    "import _ from \"npm:/lodash@4.17.21\""
   ]
  },
  {
   "cell_type": "code",
   "execution_count": 5,
   "id": "bdb753c58753499c",
   "metadata": {},
   "outputs": [
    {
     "data": {
      "text/plain": [
       "\u001b[33m1\u001b[39m"
      ]
     },
     "execution_count": 5,
     "metadata": {},
     "output_type": "execute_result"
    }
   ],
   "source": [
    "const a = _.random(0, 5);\n",
    "a"
   ]
  },
  {
   "cell_type": "code",
   "execution_count": 6,
   "id": "9dfc4c158d772f54",
   "metadata": {},
   "outputs": [
    {
     "data": {
      "text/plain": [
       "\u001b[33m0\u001b[39m"
      ]
     },
     "execution_count": 6,
     "metadata": {},
     "output_type": "execute_result"
    }
   ],
   "source": [
    "import _ from \"lodash\"\n",
    "\n",
    "const a = _.random(0, 5);\n",
    "a"
   ]
  },
  {
   "cell_type": "code",
   "execution_count": null,
   "id": "6ea6d31b72b6a186",
   "metadata": {},
   "outputs": [],
   "source": []
  }
 ],
 "metadata": {
  "kernelspec": {
   "display_name": "Deno",
   "language": "typescript",
   "name": "deno"
  },
  "language_info": {
   "codemirror_mode": "typescript",
   "file_extension": ".ts",
   "mimetype": "text/x.typescript",
   "name": "typescript",
   "nbconvert_exporter": "script",
   "pygments_lexer": "typescript",
   "version": "5.8.3"
  }
 },
 "nbformat": 4,
 "nbformat_minor": 5
}
