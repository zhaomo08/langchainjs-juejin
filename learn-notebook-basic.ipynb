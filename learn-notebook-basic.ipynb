{
 "cells": [
  {
   "metadata": {},
   "cell_type": "code",
   "outputs": [],
   "execution_count": null,
   "source": [
    "const text = await Deno.readTextFile(\"./data/qiu.txt\");\n",
    "const text = \"abc\""
   ],
   "id": "c1baeaa15b65f2e6"
  },
  {
   "metadata": {},
   "cell_type": "code",
   "outputs": [],
   "execution_count": null,
   "source": "text",
   "id": "5f4637887fa946de"
  },
  {
   "metadata": {},
   "cell_type": "code",
   "outputs": [],
   "execution_count": null,
   "source": "",
   "id": "f3da9ef97e425a7c"
  },
  {
   "metadata": {
    "ExecuteTime": {
     "end_time": "2024-05-23T15:08:01.398897Z",
     "start_time": "2024-05-23T15:08:01.395721Z"
    }
   },
   "cell_type": "code",
   "source": [
    "const lines = text.split(\"\\r\")\n",
    "lines"
   ],
   "id": "58503b710859eeb3",
   "outputs": [
    {
     "ename": "SyntaxError",
     "evalue": "invalid syntax (2584469611.py, line 1)",
     "output_type": "error",
     "traceback": [
      "\u001B[0;36m  Cell \u001B[0;32mIn[1], line 1\u001B[0;36m\u001B[0m\n\u001B[0;31m    const lines = text.split(\"\\r\")\u001B[0m\n\u001B[0m          ^\u001B[0m\n\u001B[0;31mSyntaxError\u001B[0m\u001B[0;31m:\u001B[0m invalid syntax\n"
     ]
    }
   ],
   "execution_count": 1
  },
  {
   "metadata": {},
   "cell_type": "markdown",
   "source": "# Deno 测试",
   "id": "615af63c594707fc"
  },
  {
   "metadata": {
    "ExecuteTime": {
     "end_time": "2024-05-23T15:08:04.039110Z",
     "start_time": "2024-05-23T15:08:04.036864Z"
    }
   },
   "cell_type": "code",
   "source": "import _ from \"npm:/lodash@4.17.21\"",
   "id": "87a0b17fb5a66965",
   "outputs": [
    {
     "ename": "SyntaxError",
     "evalue": "invalid syntax (358535826.py, line 1)",
     "output_type": "error",
     "traceback": [
      "\u001B[0;36m  Cell \u001B[0;32mIn[2], line 1\u001B[0;36m\u001B[0m\n\u001B[0;31m    import _ from \"npm:/lodash@4.17.21\"\u001B[0m\n\u001B[0m             ^\u001B[0m\n\u001B[0;31mSyntaxError\u001B[0m\u001B[0;31m:\u001B[0m invalid syntax\n"
     ]
    }
   ],
   "execution_count": 2
  },
  {
   "metadata": {
    "ExecuteTime": {
     "end_time": "2024-05-23T15:08:05.203908Z",
     "start_time": "2024-05-23T15:08:05.199032Z"
    }
   },
   "cell_type": "code",
   "source": [
    "const a = _.random(0, 5);\n",
    "a"
   ],
   "id": "bdb753c58753499c",
   "outputs": [
    {
     "ename": "SyntaxError",
     "evalue": "invalid syntax (791589692.py, line 1)",
     "output_type": "error",
     "traceback": [
      "\u001B[0;36m  Cell \u001B[0;32mIn[3], line 1\u001B[0;36m\u001B[0m\n\u001B[0;31m    const a = _.random(0, 5);\u001B[0m\n\u001B[0m          ^\u001B[0m\n\u001B[0;31mSyntaxError\u001B[0m\u001B[0;31m:\u001B[0m invalid syntax\n"
     ]
    }
   ],
   "execution_count": 3
  },
  {
   "metadata": {
    "ExecuteTime": {
     "end_time": "2024-05-23T15:08:06.050862Z",
     "start_time": "2024-05-23T15:08:06.048464Z"
    }
   },
   "cell_type": "code",
   "source": "",
   "id": "9dfc4c158d772f54",
   "outputs": [
    {
     "ename": "SyntaxError",
     "evalue": "invalid syntax (705170268.py, line 1)",
     "output_type": "error",
     "traceback": [
      "\u001B[0;36m  Cell \u001B[0;32mIn[4], line 1\u001B[0;36m\u001B[0m\n\u001B[0;31m    import _ from \"lodash\"\u001B[0m\n\u001B[0m             ^\u001B[0m\n\u001B[0;31mSyntaxError\u001B[0m\u001B[0;31m:\u001B[0m invalid syntax\n"
     ]
    }
   ],
   "execution_count": 4
  }
 ],
 "metadata": {
  "kernelspec": {
   "display_name": "Python 3 (ipykernel)",
   "language": "python",
   "name": "python3"
  },
  "language_info": {
   "file_extension": ".ts",
   "mimetype": "text/x.typescript",
   "name": "typescript",
   "nb_converter": "script",
   "pygments_lexer": "typescript",
   "version": "5.3.3"
  }
 },
 "nbformat": 4,
 "nbformat_minor": 5
}
