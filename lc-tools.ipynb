{
 "cells": [
  {
   "cell_type": "code",
   "execution_count": null,
   "id": "11ee0f16-747d-463b-ba59-f6a22fc13d1e",
   "metadata": {},
   "outputs": [],
   "source": [
    "import { load } from \"dotenv\";\n",
    "const env = await load();\n",
    "\n",
    "const process = {\n",
    "    env\n",
    "}"
   ]
  },
  {
   "cell_type": "code",
   "execution_count": null,
   "id": "cd1f52e3-98ec-4277-aae8-560dc36cb492",
   "metadata": {},
   "outputs": [],
   "source": [
    "import { z } from \"zod\";\n",
    "\n",
    "// 简单使用\n",
    "const stringSchema = z.string();\n",
    "stringSchema.parse(\"Hello, Zod!\");"
   ]
  },
  {
   "cell_type": "code",
   "execution_count": null,
   "id": "f3362645-bc52-4ca0-8718-4fca2905914b",
   "metadata": {},
   "outputs": [],
   "source": [
    "stringSchema.parse(2323);"
   ]
  },
  {
   "cell_type": "code",
   "execution_count": null,
   "id": "79d2ea09-ec90-4592-992b-2e5635f39cb1",
   "metadata": {},
   "outputs": [],
   "source": [
    "// 基础类型\n",
    "const stringSchema = z.string();\n",
    "const numberSchema = z.number();\n",
    "const booleanSchema = z.boolean();\n",
    "\n",
    "// 数组\n",
    "const stringArraySchema = z.array(z.string());\n",
    "stringArraySchema.parse([\"apple\", \"banana\", \"cherry\"]); \n",
    "\n",
    "// 对象\n",
    "const personSchema = z.object({\n",
    "  name: z.string(),\n",
    "  age: z.number(),\n",
    "  // 可选类型\n",
    "  isStudent: z.boolean().optional(),\n",
    "  // 默认值\n",
    "  home: z.string().default(\"no home\")\n",
    "});\n",
    "\n",
    "// 联合类型\n",
    "const mixedTypeSchema = z.union([z.string(), z.number()]);\n",
    "mixedTypeSchema.parse(\"hello\"); \n",
    "mixedTypeSchema.parse(42); "
   ]
  },
  {
   "cell_type": "code",
   "execution_count": null,
   "id": "356243dc-0e87-45c6-a66b-9b4149f4fb4f",
   "metadata": {},
   "outputs": [],
   "source": [
    "import { z } from \"zod\";\n",
    "\n",
    "const getCurrentWeatherSchema = z.object({\n",
    "  location: z.string().describe(\"The city and state, e.g. San Francisco, CA\"),\n",
    "  unit: z.enum([\"celsius\", \"fahrenheit\"]).describe(\"The unit of temperature\"),\n",
    "});"
   ]
  },
  {
   "cell_type": "code",
   "execution_count": null,
   "id": "b8a9a882-c08a-431a-aea2-6062773ac532",
   "metadata": {},
   "outputs": [],
   "source": [
    "import { zodToJsonSchema } from \"zod-to-json-schema\";\n",
    "\n",
    "const paramSchema = zodToJsonSchema(getCurrentWeatherSchema)\n",
    "paramSchema"
   ]
  },
  {
   "cell_type": "code",
   "execution_count": null,
   "id": "63fc3643-a7d7-437a-b474-45ca7d72ba3a",
   "metadata": {},
   "outputs": [],
   "source": [
    "const model = new ChatOpenAI({\n",
    "    temperature: 0 \n",
    "})\n",
    "\n",
    "const modelWithTools = model.bind({\n",
    "    tools: [\n",
    "        {\n",
    "            type: \"function\",\n",
    "            function: {\n",
    "                name: \"getCurrentWeather\",\n",
    "                description: \"Get the current weather in a given location\",\n",
    "                parameters: zodToJsonSchema(getCurrentWeatherSchema),\n",
    "            }\n",
    "        }\n",
    "    ]\n",
    "})\n",
    "\n",
    "await modelWithTools.invoke(\"北京的天气怎么样\");"
   ]
  },
  {
   "cell_type": "code",
   "execution_count": null,
   "id": "d9683945-c0de-4bf0-b1e3-28f8190ab943",
   "metadata": {},
   "outputs": [],
   "source": [
    "import { ChatPromptTemplate } from \"@langchain/core/prompts\";\n",
    "\n",
    "const prompt = ChatPromptTemplate.fromMessages([\n",
    "    [\"system\", \"You are a helpful assistant\"],\n",
    "    [\"human\", \"{input}\"]\n",
    "])\n",
    "\n",
    "const chain = prompt.pipe(modelWithTools)\n",
    "\n",
    "await chain.invoke({\n",
    "    input: \"北京的天气怎么样\"\n",
    "});"
   ]
  },
  {
   "cell_type": "code",
   "execution_count": null,
   "id": "a960463a-c711-4a60-8965-7a7c8b65f336",
   "metadata": {},
   "outputs": [],
   "source": [
    "const getCurrentTimeSchema = z.object({\n",
    "  format: z\n",
    "    .enum([\"iso\", \"locale\", \"string\"])\n",
    "    .optional()\n",
    "    .describe(\"The format of the time, e.g. iso, locale, string\"),\n",
    "});\n",
    "\n",
    "zodToJsonSchema(getCurrentTimeSchema)"
   ]
  },
  {
   "cell_type": "code",
   "execution_count": null,
   "id": "5194e71a-37a4-4339-9e91-2e1b7847d3f7",
   "metadata": {},
   "outputs": [],
   "source": [
    "const model = new ChatOpenAI({\n",
    "    temperature: 0 \n",
    "})\n",
    "\n",
    "const modelWithMultiTools = model.bind({\n",
    "    tools: [\n",
    "        {\n",
    "            type: \"function\",\n",
    "            function: {\n",
    "                name: \"getCurrentWeather\",\n",
    "                description: \"Get the current weather in a given location\",\n",
    "                parameters: zodToJsonSchema(getCurrentWeatherSchema)\n",
    "            }\n",
    "        },\n",
    "        {\n",
    "            type: \"function\",\n",
    "            function: {\n",
    "                name: \"getCurrentTime\",\n",
    "                description: \"Get the current time in a given format\",\n",
    "                parameters: zodToJsonSchema(getCurrentTimeSchema)\n",
    "            }\n",
    "        }\n",
    "    ]\n",
    "})\n",
    "\n",
    "await modelWithMultiTools.invoke(\"现在几点了？\");\n"
   ]
  },
  {
   "cell_type": "code",
   "execution_count": null,
   "id": "e6256e6a-a433-4368-a65b-b2fb3bedca68",
   "metadata": {},
   "outputs": [],
   "source": [
    "await modelWithMultiTools.invoke(\"现在 iso 格式的时间是什么？\");"
   ]
  },
  {
   "cell_type": "code",
   "execution_count": null,
   "id": "50a931ec-a737-4472-a3a4-cbb72aecd192",
   "metadata": {},
   "outputs": [],
   "source": [
    "const model = new ChatOpenAI({\n",
    "    temperature: 0 \n",
    "})\n",
    "\n",
    "const modelWithForce = model.bind({\n",
    "    tools: [\n",
    "        {\n",
    "            type: \"function\",\n",
    "            function: {\n",
    "                name: \"getCurrentWeather\",\n",
    "                description: \"Get the current weather in a given location\",\n",
    "                parameters: zodToJsonSchema(getCurrentWeatherSchema)\n",
    "            }\n",
    "        },\n",
    "        {\n",
    "            type: \"function\",\n",
    "            function: {\n",
    "                name: \"getCurrentTime\",\n",
    "                description: \"Get the current time in a given format\",\n",
    "                parameters: zodToJsonSchema(getCurrentTimeSchema)\n",
    "            }\n",
    "        }\n",
    "    ],\n",
    "    tool_choice: {\n",
    "        type: \"function\",\n",
    "        function: {\n",
    "           name: \"getCurrentWeather\"\n",
    "        }\n",
    "    }\n",
    "})\n",
    "\n",
    "await modelWithForce.invoke(\"现在几点了？\");"
   ]
  },
  {
   "cell_type": "markdown",
   "id": "c54e4e1e-40bc-41cb-969b-c01efb2882c5",
   "metadata": {},
   "source": [
    "## Tagging"
   ]
  },
  {
   "cell_type": "code",
   "execution_count": null,
   "id": "b04f0485-eae1-462e-940d-9261edc38f29",
   "metadata": {},
   "outputs": [],
   "source": [
    "const taggingSchema = z.object({\n",
    "  emotion:z.enum([\"pos\", \"neg\", \"neutral\"]).describe(\"文本的情感\"),\n",
    "  language: z.string().describe(\"文本的核心语言（应为ISO 639-1代码）\"),\n",
    "});"
   ]
  },
  {
   "cell_type": "code",
   "execution_count": null,
   "id": "ed1fdd8e-872c-4feb-9a42-47063f11d647",
   "metadata": {},
   "outputs": [],
   "source": [
    "import { JsonOutputToolsParser } from \"@langchain/core/output_parsers/openai_tools\";\n",
    "\n",
    "const model = new ChatOpenAI({\n",
    "    temperature: 0 \n",
    "})\n",
    "\n",
    "const modelTagging = model.bind({\n",
    "    tools: [\n",
    "        {\n",
    "            type: \"function\",\n",
    "            function: {\n",
    "                name: \"tagging\",\n",
    "                description: \"为特定的文本片段打上标签\",\n",
    "                parameters: zodToJsonSchema(taggingSchema)\n",
    "            }\n",
    "        }\n",
    "    ],\n",
    "    tool_choice: {\n",
    "        type: \"function\",\n",
    "        function: {\n",
    "           name: \"tagging\"\n",
    "        }\n",
    "    }\n",
    "})\n",
    "\n",
    "const prompt = ChatPromptTemplate.fromMessages([\n",
    "    [\"system\", \"仔细思考，你有充足的时间进行严谨的思考，然后按照指示对文本进行标记\"],\n",
    "    [\"human\", \"{input}\"]\n",
    "])\n",
    "\n",
    "const chain = prompt.pipe(modelTagging).pipe(new JsonOutputToolsParser())"
   ]
  },
  {
   "cell_type": "code",
   "execution_count": null,
   "id": "1c87749a-b8b7-4909-b59e-29a9f8dfbab0",
   "metadata": {},
   "outputs": [],
   "source": [
    "await chain.invoke({\n",
    "    input: \"hello world\"\n",
    "})"
   ]
  },
  {
   "cell_type": "code",
   "execution_count": null,
   "id": "1cf4ec15-b0f3-4541-8a66-32bbbd7392ef",
   "metadata": {},
   "outputs": [],
   "source": [
    "await chain.invoke({\n",
    "    input: \"写代码太难了，👴 不干了\"\n",
    "})"
   ]
  },
  {
   "cell_type": "code",
   "execution_count": null,
   "id": "6f81d723-ef03-4c30-a49a-7454bf6ee1c8",
   "metadata": {},
   "outputs": [],
   "source": [
    "await chain.invoke({\n",
    "    // 日语，圣诞快乐\n",
    "    input: \"メリークリスマス!\"\n",
    "})"
   ]
  },
  {
   "cell_type": "code",
   "execution_count": null,
   "id": "36a04165-3f34-439d-a036-601d96a5ddd5",
   "metadata": {},
   "outputs": [],
   "source": [
    "await chain.invoke({\n",
    "    input: \"我非常喜欢 AI，特别是 LLM，因为它非常 powerful\"\n",
    "})"
   ]
  },
  {
   "cell_type": "markdown",
   "id": "a3f2ed88-24fa-4192-91c8-990b5c16184e",
   "metadata": {},
   "source": [
    "## Extraction"
   ]
  },
  {
   "cell_type": "code",
   "execution_count": null,
   "id": "6934498f-ba55-4276-8430-f661f76211ed",
   "metadata": {},
   "outputs": [],
   "source": [
    "const personExtractionSchema = z.object({\n",
    "    name: z.string().describe(\"人的名字\"),\n",
    "    age: z.number().optional().describe(\"人的年龄\")\n",
    "}).describe(\"提取关于一个人的信息\");\n",
    "\n",
    "const relationExtractSchema = z.object({\n",
    "    people: z.array(personExtractionSchema).describe(\"提取所有人\"),\n",
    "    relation: z.string().describe(\"人之间的关系, 尽量简洁\")\n",
    "})"
   ]
  },
  {
   "cell_type": "code",
   "execution_count": null,
   "id": "1a9709f8-8e38-46de-b311-e7252932db78",
   "metadata": {},
   "outputs": [],
   "source": [
    "const schema = zodToJsonSchema(relationExtractSchema)"
   ]
  },
  {
   "cell_type": "code",
   "execution_count": null,
   "id": "4ff5d594-6aa3-4911-996a-fd2c53afbd7b",
   "metadata": {},
   "outputs": [],
   "source": [
    "console.log(schema)"
   ]
  },
  {
   "cell_type": "code",
   "execution_count": null,
   "id": "adbae073-5791-4d4b-b061-b46a89318019",
   "metadata": {},
   "outputs": [],
   "source": [
    "console.log(schema.properties.people)"
   ]
  },
  {
   "cell_type": "code",
   "execution_count": null,
   "id": "d0f6dfbb-add1-47be-8891-33261e547842",
   "metadata": {},
   "outputs": [],
   "source": [
    "const model = new ChatOpenAI({\n",
    "    temperature: 0 \n",
    "})\n",
    "\n",
    "const modelExtract = model.bind({\n",
    "    tools: [\n",
    "        {\n",
    "            type: \"function\",\n",
    "            function: {\n",
    "                name: \"relationExtract\",\n",
    "                description: \"提取数据中人的信息和人的关系\",\n",
    "                parameters: zodToJsonSchema(relationExtractSchema)\n",
    "            }\n",
    "        }\n",
    "    ],\n",
    "    tool_choice: {\n",
    "        type: \"function\",\n",
    "        function: {\n",
    "           name: \"relationExtract\"\n",
    "        }\n",
    "    }\n",
    "})\n",
    "\n",
    "const prompt = ChatPromptTemplate.fromMessages([\n",
    "    [\"system\", \"仔细思考，你有充足的时间进行严谨的思考，然后提取文中的相关信息，如果没有明确提供，请不要猜测，可以仅提取部分信息\"],\n",
    "    [\"human\", \"{input}\"]\n",
    "])\n",
    "\n",
    "const chain = prompt.pipe(modelExtract).pipe(new JsonOutputToolsParser())"
   ]
  },
  {
   "cell_type": "code",
   "execution_count": null,
   "id": "cb6e5ed9-4a69-4cb7-8b2f-bf12d5201d4a",
   "metadata": {},
   "outputs": [],
   "source": [
    "await chain.invoke({\n",
    "    input: \"小明现在 18 岁了，她妈妈是小丽\"\n",
    "})"
   ]
  },
  {
   "cell_type": "code",
   "execution_count": null,
   "id": "c6df8881-2aa2-4b6e-99b2-2e1acf97a9ff",
   "metadata": {},
   "outputs": [],
   "source": [
    "await chain.invoke({\n",
    "    input: \"我是小明现在 18 岁了，我和小 A、小 B 是好朋友，都一样大\"\n",
    "})"
   ]
  },
  {
   "cell_type": "code",
   "execution_count": null,
   "id": "375b412f-d516-4dcf-a54b-502076c7c93d",
   "metadata": {},
   "outputs": [],
   "source": [
    "await chain.invoke({\n",
    "    input: \"我是小明\"\n",
    "})"
   ]
  }
 ],
 "metadata": {
  "kernelspec": {
   "display_name": "Deno",
   "language": "typescript",
   "name": "deno"
  },
  "language_info": {
   "file_extension": ".ts",
   "mimetype": "text/x.typescript",
   "name": "typescript",
   "nb_converter": "script",
   "pygments_lexer": "typescript",
   "version": "5.3.3"
  }
 },
 "nbformat": 4,
 "nbformat_minor": 5
}
