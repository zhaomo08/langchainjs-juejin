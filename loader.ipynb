{
 "cells": [
  {
   "cell_type": "code",
   "metadata": {},
   "source": [
    "import { Document } from \"langchain/document\";\n",
    "\n",
    "const test = new Document({ pageContent: \"test text\", metadata: { source: \"ABC Title\" } });"
   ],
   "outputs": [],
   "execution_count": null
  },
  {
   "cell_type": "code",
   "metadata": {},
   "source": [
    "test"
   ],
   "outputs": [],
   "execution_count": null
  },
  {
   "cell_type": "code",
   "metadata": {},
   "source": [
    "import { TextLoader } from \"langchain/document_loaders/fs/text\";\n",
    "const loader = new TextLoader(\"data/qiu.txt\");\n",
    "\n",
    "const docs = await loader.load();"
   ],
   "outputs": [],
   "execution_count": null
  },
  {
   "cell_type": "code",
   "metadata": {},
   "source": [
    "console.log(docs)"
   ],
   "outputs": [],
   "execution_count": null
  },
  {
   "cell_type": "code",
   "metadata": {},
   "source": [
    "import * as pdfParse from \"pdf-parse\";\n",
    "import { PDFLoader } from \"langchain/document_loaders/fs/pdf\";\n",
    "\n",
    "const loader = new PDFLoader(\"data/github-copliot.pdf\");\n",
    "const pdfs = await loader.load()"
   ],
   "outputs": [],
   "execution_count": null
  },
  {
   "cell_type": "code",
   "metadata": {},
   "source": [
    "pdfs"
   ],
   "outputs": [],
   "execution_count": null
  },
  {
   "cell_type": "code",
   "metadata": {},
   "source": [
    "const loader = new PDFLoader(\"data/github-copliot.pdf\", { splitPages: false });\n",
    "const pdf = await loader.load()"
   ],
   "outputs": [],
   "execution_count": null
  },
  {
   "cell_type": "code",
   "metadata": {},
   "source": [
    "pdf"
   ],
   "outputs": [],
   "execution_count": null
  },
  {
   "cell_type": "code",
   "metadata": {},
   "source": [
    "pdf[0]"
   ],
   "outputs": [],
   "execution_count": null
  },
  {
   "cell_type": "code",
   "metadata": {},
   "source": [
    "import { load } from \"dotenv\";\n",
    "const env = await load();"
   ],
   "outputs": [],
   "execution_count": null
  },
  {
   "cell_type": "code",
   "metadata": {},
   "source": [
    "import { GithubRepoLoader } from \"langchain/document_loaders/web/github\";\n",
    "import ignore from \"ignore\";\n",
    "\n",
    "const loader = new GithubRepoLoader(\n",
    "    \"https://github.com/zhaomo08/langchainjs-juejin\",\n",
    "    { \n",
    "        branch: \"main\",\n",
    "        recursive: false, \n",
    "        unknown: \"warn\", \n",
    "        ignorePaths: [\"*.md\", \"yarn.lock\", \"*.json\"],\n",
    "        accessToken: env[\"GITHUB_TOKEN\"]\n",
    "    }\n",
    "  );"
   ],
   "outputs": [],
   "execution_count": null
  },
  {
   "cell_type": "code",
   "metadata": {},
   "source": [
    "const docs = await loader.load();"
   ],
   "outputs": [],
   "execution_count": null
  },
  {
   "cell_type": "code",
   "metadata": {},
   "source": [
    "console.log(docs)"
   ],
   "outputs": [],
   "execution_count": null
  },
  {
   "cell_type": "code",
   "metadata": {},
   "source": [
    "docs.length"
   ],
   "outputs": [],
   "execution_count": null
  },
  {
   "cell_type": "code",
   "metadata": {},
   "source": [
    "import \"cheerio\";\n",
    "import { CheerioWebBaseLoader } from \"langchain/document_loaders/web/cheerio\";\n",
    "\n",
    "const loader = new CheerioWebBaseLoader(\n",
    "  \"https://kaiyi.cool/blog/github-copilot\",\n",
    "  {\n",
    "    selector: \"h3\",\n",
    "  }\n",
    ");\n",
    "\n",
    "const docs = await loader.load();"
   ],
   "outputs": [],
   "execution_count": null
  },
  {
   "cell_type": "code",
   "metadata": {},
   "source": [
    "console.log(docs[0].pageContent)"
   ],
   "outputs": [],
   "execution_count": null
  },
  {
   "cell_type": "code",
   "metadata": {
    "ExecuteTime": {
     "end_time": "2024-05-23T17:46:09.775316Z",
     "start_time": "2024-05-23T17:46:09.771849Z"
    }
   },
   "source": [
    "import { load } from \"dotenv\";\n",
    "const env = await load();"
   ],
   "outputs": [],
   "execution_count": 5
  },
  {
   "cell_type": "code",
   "metadata": {
    "ExecuteTime": {
     "end_time": "2024-05-23T17:46:12.955569Z",
     "start_time": "2024-05-23T17:46:10.874387Z"
    }
   },
   "source": [
    "import { SerpAPILoader } from \"langchain/document_loaders/web/serpapi\";\n",
    "\n",
    "const apiKey = env[\"SERP_KEY\"]\n",
    "const question = \"什么 github copliot\"\n",
    "const loader = new SerpAPILoader({ q: question, apiKey });\n",
    "const docs = await loader.load();"
   ],
   "outputs": [],
   "execution_count": 6
  },
  {
   "cell_type": "code",
   "metadata": {
    "ExecuteTime": {
     "end_time": "2024-05-23T17:46:15.803779Z",
     "start_time": "2024-05-23T17:46:15.803063Z"
    }
   },
   "source": [
    "console.log(docs[1].pageContent)"
   ],
   "outputs": [
    {
     "name": "stdout",
     "output_type": "stream",
     "text": [
      "{\"position\":1,\"title\":\"什么是GitHub Copilot？ [共6 个]\",\"link\":\"https://learn.microsoft.com/zh-cn/shows/introduction-to-github-copilot/what-is-github-copilot-1-of-6\",\"redirect_link\":\"https://www.google.com/url?sa=t&source=web&rct=j&opi=89978449&url=https://learn.microsoft.com/zh-cn/shows/introduction-to-github-copilot/what-is-github-copilot-1-of-6&ved=2ahUKEwjjgcuDqqSGAxW7FlkFHTlYDtYQFnoECB4QAQ\",\"displayed_link\":\"https://learn.microsoft.com › shows\",\"favicon\":\"https://serpapi.com/searches/664f80e3c56d93e90aed5886/images/82277c65fb25b02675bdb085dc6a1332ae409164795d97236ae0a852bef5c20c.png\",\"date\":\"Mar 9, 2023\",\"snippet\":\"GitHub Copilot 是AI 编码搭档，可在你编码时提供自动完成建议。 通过键入代码或用自然语言描述代码来获取建议。 Copilot 分析文件和相关文件，并在 ...\",\"snippet_highlighted_words\":[\"GitHub Copilot\",\"Copilot\"],\"source\":\"Microsoft Learn\"}\n"
     ]
    }
   ],
   "execution_count": 7
  },
  {
   "metadata": {},
   "cell_type": "code",
   "outputs": [],
   "execution_count": null,
   "source": ""
  }
 ],
 "metadata": {
  "kernelspec": {
   "display_name": "Deno",
   "language": "typescript",
   "name": "deno"
  },
  "language_info": {
   "file_extension": ".ts",
   "mimetype": "text/x.typescript",
   "name": "typescript",
   "nb_converter": "script",
   "pygments_lexer": "typescript",
   "version": "5.3.3"
  }
 },
 "nbformat": 4,
 "nbformat_minor": 4
}
