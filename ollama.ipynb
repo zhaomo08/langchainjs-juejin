{
 "cells": [
  {
   "cell_type": "code",
   "id": "initial_id",
   "metadata": {
    "collapsed": true,
    "ExecuteTime": {
     "end_time": "2024-05-23T15:19:55.869080Z",
     "start_time": "2024-05-23T15:19:54.984792Z"
    }
   },
   "source": [
    "import { Ollama } from \"@langchain/community/llms/ollama\";\n",
    "\n",
    "const ollama = new Ollama({\n",
    "    baseUrl: \"http://localhost:11434\",\n",
    "    model: \"llama3\"\n",
    "});\n",
    "\n",
    "const res = await ollama.invoke(\"tell me a joke\");"
   ],
   "outputs": [],
   "execution_count": 2
  },
  {
   "metadata": {
    "ExecuteTime": {
     "end_time": "2024-05-23T15:19:57.736711Z",
     "start_time": "2024-05-23T15:19:57.735475Z"
    }
   },
   "cell_type": "code",
   "source": "console.log(res)",
   "id": "52728896be3ad4a6",
   "outputs": [
    {
     "name": "stdout",
     "output_type": "stream",
     "text": [
      "Here's one:\n",
      "\n",
      "Why don't eggs tell jokes?\n",
      "\n",
      "(wait for it...)\n",
      "\n",
      "Because they'd crack each other up!\n",
      "\n",
      "Hope that made you smile!\n"
     ]
    }
   ],
   "execution_count": 3
  },
  {
   "metadata": {},
   "cell_type": "code",
   "outputs": [],
   "execution_count": null,
   "source": "",
   "id": "dc43421b0af77c06"
  }
 ],
 "metadata": {
  "kernelspec": {
   "display_name": "Deno",
   "language": "typescript",
   "name": "deno"
  },
  "language_info": {
   "codemirror_mode": {
    "name": "ipython",
    "version": 2
   },
   "file_extension": ".py",
   "mimetype": "text/x-python",
   "name": "python",
   "nbconvert_exporter": "python",
   "pygments_lexer": "ipython2",
   "version": "2.7.6"
  }
 },
 "nbformat": 4,
 "nbformat_minor": 5
}
